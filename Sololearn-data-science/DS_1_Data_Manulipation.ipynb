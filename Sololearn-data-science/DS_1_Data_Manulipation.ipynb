{
  "nbformat": 4,
  "nbformat_minor": 0,
  "metadata": {
    "colab": {
      "name": "DS -1-Data-Manulipation.ipynb",
      "provenance": [],
      "collapsed_sections": []
    },
    "kernelspec": {
      "name": "python3",
      "display_name": "Python 3"
    }
  },
  "cells": [
    {
      "cell_type": "markdown",
      "metadata": {
        "id": "Pb2roR7d-5Xl"
      },
      "source": [
        "# Numerical Data\n",
        "Datasets come from a wide range of sources and formats: it could be collections of numerical measurements, text corpus, images, audio clips, or basically anything. No matter the format, the first step in data science is to transform it into arrays of numbers.\n",
        "\n",
        "We collected 45 U.S. president heights in centimeters in chronological order and stored them in a list, a built-in data type in python.\n",
        "\n",
        "\n",
        "```\n",
        "heights = [189, 170, 189, 163, 183, 171, 185, 168, 173, 183, 173, 173, 175, 178, 183, 193, 178, 173, 174, 183, 183, 180, 168, 180, 170, 178, 182, 180, 183, 178, 182, 188, 175, 179, 183, 193, 182, 183, 177, 185, 188, 188, 182, 185, 191]\n",
        "```\n",
        "\n",
        "In this example, George Washington was the first president, and his height was 189 cm.\n",
        "\n",
        "If we wanted to know how many presidents are taller than 188cm, we could iterate through the list, compare each element against 188, and increase the count by 1 as the criteria is met.\n"
      ]
    },
    {
      "cell_type": "code",
      "metadata": {
        "id": "NEaal9t1_b1x",
        "colab": {
          "base_uri": "https://localhost:8080/",
          "height": 35
        },
        "outputId": "3cdb2de8-6123-4524-e8d8-72bc1700cf55"
      },
      "source": [
        "heights = [189, 170, 189, 163, 183, 171, 185, 168, 173, 183, 173, 173, 175, 178, 183, 193, 178, 173, 174, 183, 183, 180, 168, 180, 170, 178, 182, 180, 183, 178, 182, 188, 175, 179, 183, 193, 182, 183, 177, 185, 188, 188, 182, 185, 191]\n",
        "\n",
        "cnt = 0\n",
        "for height in heights:\n",
        "\tif height > 188:\n",
        "\t\tcnt +=1\n",
        "print(cnt)"
      ],
      "execution_count": null,
      "outputs": [
        {
          "output_type": "stream",
          "text": [
            "5\n"
          ],
          "name": "stdout"
        }
      ]
    },
    {
      "cell_type": "markdown",
      "metadata": {
        "id": "UYW9bSXcARqw"
      },
      "source": [
        "The import statement allows us to access the functions and modules inside the numpy library. The library will be used frequently, so by convention numpy is imported under a shorter name, np. The second line is to convert the list into a numpy array object, via np.array(), that tools provided in numpy can work with. The last line provides a simple and natural solution, enabled by numpy, to the original question.\n",
        "\n",
        "As our datasets grow larger and more complicated, numpy allows us the use of a more efficient and for-loop-free method to manipulate and analyze our data. Our dataset example in this module will include the US Presidents' height, age and party."
      ]
    },
    {
      "cell_type": "code",
      "metadata": {
        "id": "CWz7TcUFATVg",
        "colab": {
          "base_uri": "https://localhost:8080/",
          "height": 35
        },
        "outputId": "be0bd6d6-cd10-4aaf-a74f-bd20d613560b"
      },
      "source": [
        "import numpy as np\n",
        "\n",
        "heights = [189, 170, 189, 163, 183, 171, 185, 168, 173, 183, 173, 173, 175, 178, 183, 193, 178, 173, 174, 183, 183, 180, 168, 180, 170, 178, 182, 180, 183, 178, 182, 188, 175, 179, 183, 193, 182, 183, 177, 185, 188, 188, 182, 185, 191]\n",
        "\n",
        "heights_arr = np.array(heights)\n",
        "print((heights_arr > 188).sum())"
      ],
      "execution_count": null,
      "outputs": [
        {
          "output_type": "stream",
          "text": [
            "5\n"
          ],
          "name": "stdout"
        }
      ]
    },
    {
      "cell_type": "markdown",
      "metadata": {
        "id": "FvdS2M3aC36H"
      },
      "source": [
        "# Size and Shape\n",
        "An array class in Numpy is called an **ndarray** or n-dimensional array. We can use this to count the number of presidents in heights_arr, use attribute numpy.ndarray.size:"
      ]
    },
    {
      "cell_type": "code",
      "metadata": {
        "id": "V7PrAdhSDmuU",
        "colab": {
          "base_uri": "https://localhost:8080/",
          "height": 35
        },
        "outputId": "81c4f2ac-e94e-48b0-b866-59ee997c3c5a"
      },
      "source": [
        "import numpy as np\n",
        "\n",
        "heights = [189, 170, 189, 163, 183, 171, 185, 168, 173, 183, 173, 173, 175, 178, 183, 193, 178, 173, 174, 183, 183, 180, 168, 180, 170, 178, 182, 180, 183, 178, 182, 188, 175, 179, 183, 193, 182, 183, 177, 185, 188, 188, 182, 185, 191]\n",
        "\n",
        "heights_arr = np.array(heights)\n",
        "print(heights_arr.size)"
      ],
      "execution_count": null,
      "outputs": [
        {
          "output_type": "stream",
          "text": [
            "45\n"
          ],
          "name": "stdout"
        }
      ]
    },
    {
      "cell_type": "markdown",
      "metadata": {
        "id": "Mn3i9OC4EDik"
      },
      "source": [
        "Note that once an array is created in numpy, its size cannot be changed.\n",
        "\n",
        "Size tells us how big the array is, shape tells us the dimension. To get current shape of an array use attribute shape:"
      ]
    },
    {
      "cell_type": "code",
      "metadata": {
        "id": "N34ZkKuAEQvg",
        "colab": {
          "base_uri": "https://localhost:8080/",
          "height": 35
        },
        "outputId": "2b71d803-f579-41b5-c4cb-43cb4d6174e8"
      },
      "source": [
        "import numpy as np\n",
        "\n",
        "heights = [189, 170, 189, 163, 183, 171, 185, 168, 173, 183, 173, 173, 175, 178, 183, 193, 178, 173, 174, 183, 183, 180, 168, 180, 170, 178, 182, 180, 183, 178, 182, 188, 175, 179, 183, 193, 182, 183, 177, 185, 188, 188, 182, 185, 191]\n",
        "\n",
        "heights_arr = np.array(heights)\n",
        "print(heights_arr.shape)"
      ],
      "execution_count": null,
      "outputs": [
        {
          "output_type": "stream",
          "text": [
            "(45,)\n"
          ],
          "name": "stdout"
        }
      ]
    },
    {
      "cell_type": "markdown",
      "metadata": {
        "id": "xjJ74hRmFK8E"
      },
      "source": [
        "The output is a **tuple**, recall that the built-in data type tuple is immutable whereas a list is mutable, containing a single value, indicating that there is only one dimension, i.e., axis 0. Along axis 0, there are 45 elements (one for each president) Here, heights_arr is a 1d array."
      ]
    },
    {
      "cell_type": "markdown",
      "metadata": {
        "id": "8lfzZ_3sTAtX"
      },
      "source": [
        "\n",
        "\n",
        "# Reshape\n",
        "Other data we have collected includes the ages of the presidents:\n",
        "\n",
        "\n",
        "\n",
        "```\n",
        "ages = [57, 61, 57, 57, 58, 57, 61, 54, 68, 51, 49, 64, 50, 48, 65, 52, 56, 46, 54, 49, 51, 47, 55, 55, 54, 42, 51, 56, 55, 51, 54, 51, 60, 62, 43, 55, 56, 61, 52, 69, 64, 46, 54, 47, 70]\n",
        "```\n",
        "\n"
      ]
    },
    {
      "cell_type": "code",
      "metadata": {
        "id": "Bnb_sCnNTQKB",
        "colab": {
          "base_uri": "https://localhost:8080/"
        },
        "outputId": "26a2d775-77b4-4bdc-81bd-133b709cd064"
      },
      "source": [
        "import numpy as np\n",
        "\n",
        "heights = [189, 170, 189, 163, 183, 171, 185, 168, 173, 183, 173, 173, 175, 178, 183, 193, 178, 173, 174, 183, 183, 180, 168, 180, 170, 178, 182, 180, 183, 178, 182, 188, 175, 179, 183, 193, 182, 183, 177, 185, 188, 188, 182, 185, 191]\n",
        "\n",
        "ages = [57, 61, 57, 57, 58, 57, 61, 54, 68, 51, 49, 64, 50, 48, 65, 52, 56, 46, 54, 49, 51, 47, 55, 55, 54, 42, 51, 56, 55, 51, 54, 51, 60, 62, 43, 55, 56, 61, 52, 69, 64, 46, 54, 47, 70]\n",
        "\n",
        "heights_and_ages = heights + ages \n",
        "# convert a list to a numpy array\n",
        "heights_and_ages_arr = np.array(heights_and_ages)\n",
        "print(heights_and_ages_arr.shape)"
      ],
      "execution_count": null,
      "outputs": [
        {
          "output_type": "stream",
          "text": [
            "(90,)\n"
          ],
          "name": "stdout"
        }
      ]
    },
    {
      "cell_type": "markdown",
      "metadata": {
        "id": "-bh43AK_Wvly"
      },
      "source": [
        "This produces one long array. It would be clearer if we could align height and age for each president and reorganize the data into a 2 by 45 matrix where the first row contains all heights and the second row contains ages. To achieve this, a new array can be created by calling **numpy.ndarray.reshape** with new dimensions specified in a tuple:"
      ]
    },
    {
      "cell_type": "code",
      "metadata": {
        "id": "fYE1fA8bW5BR",
        "colab": {
          "base_uri": "https://localhost:8080/"
        },
        "outputId": "eb63bf12-a175-49f4-cbfe-63709ece77c0"
      },
      "source": [
        "import numpy as np\n",
        "\n",
        "heights = [189, 170, 189, 163, 183, 171, 185, 168, 173, 183, 173, 173, 175, 178, 183, 193, 178, 173, 174, 183, 183, 180, 168, 180, 170, 178, 182, 180, 183, 178, 182, 188, 175, 179, 183, 193, 182, 183, 177, 185, 188, 188, 182, 185, 191]\n",
        "\n",
        "ages = [57, 61, 57, 57, 58, 57, 61, 54, 68, 51, 49, 64, 50, 48, 65, 52, 56, 46, 54, 49, 51, 47, 55, 55, 54, 42, 51, 56, 55, 51, 54, 51, 60, 62, 43, 55, 56, 61, 52, 69, 64, 46, 54, 47, 70]\n",
        "\n",
        "heights_and_ages = heights + ages \n",
        "# convert a list to a numpy array\n",
        "heights_and_ages_arr = np.array(heights_and_ages)\n",
        "print(heights_and_ages_arr.reshape((2,45)))"
      ],
      "execution_count": null,
      "outputs": [
        {
          "output_type": "stream",
          "text": [
            "[[189 170 189 163 183 171 185 168 173 183 173 173 175 178 183 193 178 173\n",
            "  174 183 183 180 168 180 170 178 182 180 183 178 182 188 175 179 183 193\n",
            "  182 183 177 185 188 188 182 185 191]\n",
            " [ 57  61  57  57  58  57  61  54  68  51  49  64  50  48  65  52  56  46\n",
            "   54  49  51  47  55  55  54  42  51  56  55  51  54  51  60  62  43  55\n",
            "   56  61  52  69  64  46  54  47  70]]\n"
          ],
          "name": "stdout"
        }
      ]
    },
    {
      "cell_type": "markdown",
      "metadata": {
        "id": "x1ALZDCvXdXS"
      },
      "source": [
        "The reshaped array is now a 2darray, yet note that the original array is not changed. We can reshape an array in multiple ways, as long as the size of the reshaped array matches that of the original.\n",
        "\n",
        "Numpy can calculate the shape (dimension) for us if we indicate the unknown dimension as -1. For example, given a 2darray `arr` of shape (3,4), arr.reshape(-1) would output a 1darray of shape (12,), while arr.reshape((-1,2)) would generate a 2darray of shape (6,2)."
      ]
    },
    {
      "cell_type": "markdown",
      "metadata": {
        "id": "h3usmf3f7HTF"
      },
      "source": [
        "# Data Type\n",
        "Another characteristic about numpy array is that it is **homogeneous**, meaning each element must be of the same data type.\n",
        "\n",
        "For example, in heights_arr, we recorded all heights in whole numbers; thus each element is stored as an integer in the array. To check the data type, use numpy.ndarray.dtype"
      ]
    },
    {
      "cell_type": "code",
      "metadata": {
        "id": "q25LTPef7aXY",
        "colab": {
          "base_uri": "https://localhost:8080/",
          "height": 35
        },
        "outputId": "bbf4690a-c094-43d4-d0ab-5be37b7d2f09"
      },
      "source": [
        "import numpy as np\n",
        "\n",
        "heights = [189, 170, 189, 163, 183, 171, 185, 168, 173, 183, 173, 173, 175, 178, 183, 193, 178, 173, 174, 183, 183, 180, 168, 180, 170, 178, 182, 180, 183, 178, 182, 188, 175, 179, 183, 193, 182, 183, 177, 185, 188, 188, 182, 185, 191]\n",
        "\n",
        "heights_arr = np.array(heights)\n",
        "print(heights_arr.dtype)"
      ],
      "execution_count": null,
      "outputs": [
        {
          "output_type": "stream",
          "text": [
            "int64\n"
          ],
          "name": "stdout"
        }
      ]
    },
    {
      "cell_type": "markdown",
      "metadata": {
        "id": "hjcvv0Is7x2m"
      },
      "source": [
        "If we mixed a float number in, say, the first element is 189.0 instead of 189:\n",
        "\n",
        "\n",
        "```\n",
        "heights_float = [189.0, 170, 189, 163, 183, 171, 185, 168, 173, 183, 173, 173, 175, 178, 183, 193, 178, 173, 174, 183, 183, 180, 168, 180, 170, 178, 182, 180, 183, 178, 182, 188, 175, 179, 183, 193, 182, 183, 177, 185, 188, 188, 182, 185, 191]\n",
        "```\n",
        "\n"
      ]
    },
    {
      "cell_type": "code",
      "metadata": {
        "id": "XlYrVJGa8Hs7",
        "colab": {
          "base_uri": "https://localhost:8080/"
        },
        "outputId": "9849ed9e-f481-4d02-f1cf-5786f53172a7"
      },
      "source": [
        "import numpy as np\n",
        "\n",
        "heights_float = [189.0, 170, 189, 163, 183, 171, 185, 168, 173, 183, 173, 173, 175, 178, 183, 193, 178, 173, 174, 183, 183, 180, 168, 180, 170, 178, 182, 180, 183, 178, 182, 188, 175, 179, 183, 193, 182, 183, 177, 185, 188, 188, 182, 185, 191]\n",
        "\n",
        "heights_float_arr = np.array(heights_float)\n",
        "print(heights_float_arr)\n",
        "print(\"\\n\")\n",
        "print(heights_float_arr.dtype)"
      ],
      "execution_count": null,
      "outputs": [
        {
          "output_type": "stream",
          "text": [
            "[189. 170. 189. 163. 183. 171. 185. 168. 173. 183. 173. 173. 175. 178.\n",
            " 183. 193. 178. 173. 174. 183. 183. 180. 168. 180. 170. 178. 182. 180.\n",
            " 183. 178. 182. 188. 175. 179. 183. 193. 182. 183. 177. 185. 188. 188.\n",
            " 182. 185. 191.]\n",
            "\n",
            "\n",
            "float64\n"
          ],
          "name": "stdout"
        }
      ]
    },
    {
      "cell_type": "markdown",
      "metadata": {
        "id": "bG6Yhzbi8ctJ"
      },
      "source": [
        "Numpy supports several data types such as int (integer), float (numeric floating point), and bool (boolean values, True and False). The number after the data type, ex. int64, represents the bitsize of the data type."
      ]
    },
    {
      "cell_type": "markdown",
      "metadata": {
        "id": "dXJMezAG89DF"
      },
      "source": [
        "# Indexing\n",
        "We can use array indexing to select individual elements from arrays. Like Python lists, numpy index starts from 0. \n",
        "\n",
        "To access the height of the 3rd president Thomas Jefferson in the 1darray 'heights_arr':"
      ]
    },
    {
      "cell_type": "code",
      "metadata": {
        "id": "KTOBqffC9IZU",
        "colab": {
          "base_uri": "https://localhost:8080/",
          "height": 35
        },
        "outputId": "81b1de59-5502-4939-e74b-c4a68dc2aaaa"
      },
      "source": [
        "import numpy as np\n",
        "\n",
        "heights = [189, 170, 189, 163, 183, 171, 185, 168, 173, 183, 173, 173, 175, 178, 183, 193, 178, 173, 174, 183, 183, 180, 168, 180, 170, 178, 182, 180, 183, 178, 182, 188, 175, 179, 183, 193, 182, 183, 177, 185, 188, 188, 182, 185, 191]\n",
        "\n",
        "heights_arr = np.array(heights)\n",
        "print(heights_arr[2])"
      ],
      "execution_count": null,
      "outputs": [
        {
          "output_type": "stream",
          "text": [
            "189\n"
          ],
          "name": "stdout"
        }
      ]
    },
    {
      "cell_type": "markdown",
      "metadata": {
        "id": "NNb_oShw9XBj"
      },
      "source": [
        "In a 2darray, there are two axes, axis 0 and 1. Axis 0 runs downward down the rows whereas axis 1 runs horizontally across the columns. \n",
        "\n",
        "In the 2darrary heights_and_ages_arr, recall that its dimensions are (2, 45). To find Thomas Jefferson’s age at the beginning of his presidency you would need to access the second row where ages are stored:"
      ]
    },
    {
      "cell_type": "code",
      "metadata": {
        "id": "ghvIoZoD9YvM",
        "colab": {
          "base_uri": "https://localhost:8080/",
          "height": 35
        },
        "outputId": "0af2965e-e4c2-46be-b864-36a60fa6b07d"
      },
      "source": [
        "import numpy as np\n",
        "\n",
        "heights = [189, 170, 189, 163, 183, 171, 185, 168, 173, 183, 173, 173, 175, 178, 183, 193, 178, 173, 174, 183, 183, 180, 168, 180, 170, 178, 182, 180, 183, 178, 182, 188, 175, 179, 183, 193, 182, 183, 177, 185, 188, 188, 182, 185, 191]\n",
        "\n",
        "ages = [57, 61, 57, 57, 58, 57, 61, 54, 68, 51, 49, 64, 50, 48, 65, 52, 56, 46, 54, 49, 51, 47, 55, 55, 54, 42, 51, 56, 55, 51, 54, 51, 60, 62, 43, 55, 56, 61, 52, 69, 64, 46, 54, 47, 70]\n",
        "\n",
        "heights_and_ages = heights + ages\n",
        "heights_and_ages_arr = np.array(heights_and_ages)\n",
        "heights_and_ages_arr = heights_and_ages_arr.reshape((2,45))\n",
        "print(heights_and_ages_arr[1,2])"
      ],
      "execution_count": null,
      "outputs": [
        {
          "output_type": "stream",
          "text": [
            "57\n"
          ],
          "name": "stdout"
        }
      ]
    },
    {
      "cell_type": "markdown",
      "metadata": {
        "id": "GS9nU6W-9ygW"
      },
      "source": [
        "In 2darray, the row is axis 0 and the column is axis 1, therefore, to access a 2darray, numpy first looks for the position in rows, then in columns. So in our example heights_and_ages_arr[1,2], we are accessing row 2 (ages), column 3 (third president) to find Thomas Jefferson’s age."
      ]
    },
    {
      "cell_type": "markdown",
      "metadata": {
        "id": "DmH7OH_C-PKN"
      },
      "source": [
        "# Slicing\n",
        "What if we want to inspect the first three elements from the first row in a 2darray? We use \":\" to select all the elements from the index up to but not including the ending index. This is called **slicing**."
      ]
    },
    {
      "cell_type": "code",
      "metadata": {
        "id": "HIds_aFk-bvK",
        "colab": {
          "base_uri": "https://localhost:8080/",
          "height": 35
        },
        "outputId": "7eb24574-3e01-48bd-f371-57f325fcad61"
      },
      "source": [
        "import numpy as np\n",
        "\n",
        "heights = [189, 170, 189, 163, 183, 171, 185, 168, 173, 183, 173, 173, 175, 178, 183, 193, 178, 173, 174, 183, 183, 180, 168, 180, 170, 178, 182, 180, 183, 178, 182, 188, 175, 179, 183, 193, 182, 183, 177, 185, 188, 188, 182, 185, 191]\n",
        "\n",
        "ages = [57, 61, 57, 57, 58, 57, 61, 54, 68, 51, 49, 64, 50, 48, 65, 52, 56, 46, 54, 49, 51, 47, 55, 55, 54, 42, 51, 56, 55, 51, 54, 51, 60, 62, 43, 55, 56, 61, 52, 69, 64, 46, 54, 47, 70]\n",
        "\n",
        "heights_and_ages = heights + ages\n",
        "heights_and_ages_arr = np.array(heights_and_ages)\n",
        "heights_and_ages_arr = heights_and_ages_arr.reshape((2,45))\n",
        "print(heights_and_ages_arr[0, 0:3])"
      ],
      "execution_count": null,
      "outputs": [
        {
          "output_type": "stream",
          "text": [
            "[189 170 189]\n"
          ],
          "name": "stdout"
        }
      ]
    },
    {
      "cell_type": "markdown",
      "metadata": {
        "id": "1HYcySlg-wuK"
      },
      "source": [
        "When the starting index is 0, we can omit it as shown below:"
      ]
    },
    {
      "cell_type": "code",
      "metadata": {
        "id": "oQ1LkDfw-yHA",
        "colab": {
          "base_uri": "https://localhost:8080/",
          "height": 35
        },
        "outputId": "369cc8ef-fc86-4089-afd3-803f04e84e6a"
      },
      "source": [
        "import numpy as np\n",
        "\n",
        "heights = [189, 170, 189, 163, 183, 171, 185, 168, 173, 183, 173, 173, 175, 178, 183, 193, 178, 173, 174, 183, 183, 180, 168, 180, 170, 178, 182, 180, 183, 178, 182, 188, 175, 179, 183, 193, 182, 183, 177, 185, 188, 188, 182, 185, 191]\n",
        "\n",
        "ages = [57, 61, 57, 57, 58, 57, 61, 54, 68, 51, 49, 64, 50, 48, 65, 52, 56, 46, 54, 49, 51, 47, 55, 55, 54, 42, 51, 56, 55, 51, 54, 51, 60, 62, 43, 55, 56, 61, 52, 69, 64, 46, 54, 47, 70]\n",
        "\n",
        "heights_and_ages = heights + ages\n",
        "heights_and_ages_arr = np.array(heights_and_ages)\n",
        "heights_and_ages_arr = heights_and_ages_arr.reshape((2,45))\n",
        "print(heights_and_ages_arr[0, :3])"
      ],
      "execution_count": null,
      "outputs": [
        {
          "output_type": "stream",
          "text": [
            "[189 170 189]\n"
          ],
          "name": "stdout"
        }
      ]
    },
    {
      "cell_type": "markdown",
      "metadata": {
        "id": "EzarENn9_CTB"
      },
      "source": [
        "What if we’d like to see the entire third column? Specify this by using a \":\" as follows"
      ]
    },
    {
      "cell_type": "code",
      "metadata": {
        "id": "rN7SKMC3_EOV",
        "colab": {
          "base_uri": "https://localhost:8080/",
          "height": 35
        },
        "outputId": "fb91ad2b-b681-4c82-f084-67cb45cc6982"
      },
      "source": [
        "import numpy as np\n",
        "\n",
        "heights = [189, 170, 189, 163, 183, 171, 185, 168, 173, 183, 173, 173, 175, 178, 183, 193, 178, 173, 174, 183, 183, 180, 168, 180, 170, 178, 182, 180, 183, 178, 182, 188, 175, 179, 183, 193, 182, 183, 177, 185, 188, 188, 182, 185, 191]\n",
        "\n",
        "ages = [57, 61, 57, 57, 58, 57, 61, 54, 68, 51, 49, 64, 50, 48, 65, 52, 56, 46, 54, 49, 51, 47, 55, 55, 54, 42, 51, 56, 55, 51, 54, 51, 60, 62, 43, 55, 56, 61, 52, 69, 64, 46, 54, 47, 70]\n",
        "\n",
        "heights_and_ages = heights + ages\n",
        "heights_and_ages_arr = np.array(heights_and_ages)\n",
        "heights_and_ages_arr = heights_and_ages_arr.reshape((2,45))\n",
        "print(heights_and_ages_arr[:, 3])"
      ],
      "execution_count": null,
      "outputs": [
        {
          "output_type": "stream",
          "text": [
            "[163  57]\n"
          ],
          "name": "stdout"
        }
      ]
    },
    {
      "cell_type": "markdown",
      "metadata": {
        "id": "TjYvbkYa_XOx"
      },
      "source": [
        "Numpy slicing syntax follows that of a python list: arr[start:stop:step]. When any of these are unspecified, they default to the values start=0, stop=size of dimension, step=1."
      ]
    },
    {
      "cell_type": "code",
      "metadata": {
        "id": "flSPQpRQ_02j",
        "colab": {
          "base_uri": "https://localhost:8080/",
          "height": 35
        },
        "outputId": "51af1723-b939-47c3-ff61-cf124515e7c4"
      },
      "source": [
        "import numpy as np\n",
        "\n",
        "heights = [189, 170, 189, 163, 183, 171, 185, 168, 173, 183, 173, 173, 175, 178, 183, 193, 178, 173, 174, 183, 183, 180, 168, 180, 170, 178, 182, 180, 183, 178, 182, 188, 175, 179, 183, 193, 182, 183, 177, 185, 188, 188, 182, 185, 191]\n",
        "\n",
        "ages = [57, 61, 57, 57, 58, 57, 61, 54, 68, 51, 49, 64, 50, 48, 65, 52, 56, 46, 54, 49, 51, 47, 55, 55, 54, 42, 51, 56, 55, 51, 54, 51, 60, 62, 43, 55, 56, 61, 52, 69, 64, 46, 54, 47, 70]\n",
        "\n",
        "heights_and_ages = heights + ages\n",
        "heights_and_ages_arr = np.array(heights_and_ages)\n",
        "heights_and_ages_arr = heights_and_ages_arr.reshape((2,45))\n",
        "print(heights_and_ages_arr[:, 3])"
      ],
      "execution_count": null,
      "outputs": [
        {
          "output_type": "stream",
          "text": [
            "[163  57]\n"
          ],
          "name": "stdout"
        }
      ]
    },
    {
      "cell_type": "markdown",
      "metadata": {
        "id": "OppM7ct3uz5D"
      },
      "source": [
        "# Assigning Single Values\n",
        "Sometimes you need to change the values of particular elements in the array. For example, we noticed the fourth entry in the heights_arr was incorrect, it should be 165 instead of 163, we can re-assign the correct number by:"
      ]
    },
    {
      "cell_type": "code",
      "metadata": {
        "id": "KvO4WCFVu_fo",
        "colab": {
          "base_uri": "https://localhost:8080/"
        },
        "outputId": "a8fd09e1-d4fb-45c6-850e-d83a5fd2104f"
      },
      "source": [
        "import numpy as np\n",
        "\n",
        "heights = [189, 170, 189, 163, 183, 171, 185, 168, 173, 183, 173, 173, 175, 178, 183, 193, 178, 173, 174, 183, 183, 180, 168, 180, 170, 178, 182, 180, 183, 178, 182, 188, 175, 179, 183, 193, 182, 183, 177, 185, 188, 188, 182, 185, 191]\n",
        "\n",
        "heights_arr = np.array(heights)\n",
        "heights_arr[3] = 165\n",
        "print(heights_arr)"
      ],
      "execution_count": null,
      "outputs": [
        {
          "output_type": "stream",
          "text": [
            "[189 170 189 165 183 171 185 168 173 183 173 173 175 178 183 193 178 173\n",
            " 174 183 183 180 168 180 170 178 182 180 183 178 182 188 175 179 183 193\n",
            " 182 183 177 185 188 188 182 185 191]\n"
          ],
          "name": "stdout"
        }
      ]
    },
    {
      "cell_type": "markdown",
      "metadata": {
        "id": "i0t2p0eUvU7i"
      },
      "source": [
        "In a 2darray, single values can be assigned easily. You can use indexing for one element. For example, change the fourth entry in heights_arr to 165:"
      ]
    },
    {
      "cell_type": "code",
      "metadata": {
        "id": "YTqkoOHIvZv5",
        "colab": {
          "base_uri": "https://localhost:8080/"
        },
        "outputId": "5c8a9670-f694-4d49-efb0-bf286ebb9cf2"
      },
      "source": [
        "import numpy as np\n",
        "\n",
        "heights = [189, 170, 189, 163, 183, 171, 185, 168, 173, 183, 173, 173, 175, 178, 183, 193, 178, 173, 174, 183, 183, 180, 168, 180, 170, 178, 182, 180, 183, 178, 182, 188, 175, 179, 183, 193, 182, 183, 177, 185, 188, 188, 182, 185, 191]\n",
        "\n",
        "ages = [57, 61, 57, 57, 58, 57, 61, 54, 68, 51, 49, 64, 50, 48, 65, 52, 56, 46, 54, 49, 51, 47, 55, 55, 54, 42, 51, 56, 55, 51, 54, 51, 60, 62, 43, 55, 56, 61, 52, 69, 64, 46, 54, 47, 70]\n",
        "\n",
        "heights_and_ages = heights + ages \n",
        "heights_and_ages_arr = np.array(heights_and_ages)\n",
        "heights_and_ages_arr = heights_and_ages_arr.reshape((2,45))\n",
        "heights_and_ages_arr[0, 3] = 165\n",
        "print(heights_and_ages_arr)"
      ],
      "execution_count": null,
      "outputs": [
        {
          "output_type": "stream",
          "text": [
            "[[189 170 189 165 183 171 185 168 173 183 173 173 175 178 183 193 178 173\n",
            "  174 183 183 180 168 180 170 178 182 180 183 178 182 188 175 179 183 193\n",
            "  182 183 177 185 188 188 182 185 191]\n",
            " [ 57  61  57  57  58  57  61  54  68  51  49  64  50  48  65  52  56  46\n",
            "   54  49  51  47  55  55  54  42  51  56  55  51  54  51  60  62  43  55\n",
            "   56  61  52  69  64  46  54  47  70]]\n"
          ],
          "name": "stdout"
        }
      ]
    },
    {
      "cell_type": "markdown",
      "metadata": {
        "id": "CxZdGsEBv84d"
      },
      "source": [
        "Or we can use slicing for multiple elements. For example, to replace the first row by its mean 180 in heights_and_ages_arr:"
      ]
    },
    {
      "cell_type": "code",
      "metadata": {
        "id": "dOAJzT7Xv-JK",
        "colab": {
          "base_uri": "https://localhost:8080/"
        },
        "outputId": "9a1e32d7-2338-454b-dc40-4f86e934ea52"
      },
      "source": [
        "import numpy as np\n",
        "\n",
        "heights = [189, 170, 189, 163, 183, 171, 185, 168, 173, 183, 173, 173, 175, 178, 183, 193, 178, 173, 174, 183, 183, 180, 168, 180, 170, 178, 182, 180, 183, 178, 182, 188, 175, 179, 183, 193, 182, 183, 177, 185, 188, 188, 182, 185, 191]\n",
        "\n",
        "ages = [57, 61, 57, 57, 58, 57, 61, 54, 68, 51, 49, 64, 50, 48, 65, 52, 56, 46, 54, 49, 51, 47, 55, 55, 54, 42, 51, 56, 55, 51, 54, 51, 60, 62, 43, 55, 56, 61, 52, 69, 64, 46, 54, 47, 70]\n",
        "\n",
        "heights_and_ages = heights + ages \n",
        "heights_and_ages_arr = np.array(heights_and_ages)\n",
        "heights_and_ages_arr = heights_and_ages_arr.reshape((2,45))\n",
        "\n",
        "heights_and_ages_arr[0,:] = 180\n",
        "print(heights_and_ages_arr)"
      ],
      "execution_count": null,
      "outputs": [
        {
          "output_type": "stream",
          "text": [
            "[[180 180 180 180 180 180 180 180 180 180 180 180 180 180 180 180 180 180\n",
            "  180 180 180 180 180 180 180 180 180 180 180 180 180 180 180 180 180 180\n",
            "  180 180 180 180 180 180 180 180 180]\n",
            " [ 57  61  57  57  58  57  61  54  68  51  49  64  50  48  65  52  56  46\n",
            "   54  49  51  47  55  55  54  42  51  56  55  51  54  51  60  62  43  55\n",
            "   56  61  52  69  64  46  54  47  70]]\n"
          ],
          "name": "stdout"
        }
      ]
    },
    {
      "cell_type": "markdown",
      "metadata": {
        "id": "7FYorluKwHEB"
      },
      "source": [
        "We can also combine slicing to change any subset of the array. For example, to reassign 0 to the left upper corner:"
      ]
    },
    {
      "cell_type": "code",
      "metadata": {
        "id": "560of9GBwICn",
        "colab": {
          "base_uri": "https://localhost:8080/"
        },
        "outputId": "59aee1ce-d0a5-448d-d89f-5726f1b79266"
      },
      "source": [
        "import numpy as np\n",
        "\n",
        "heights = [189, 170, 189, 163, 183, 171, 185, 168, 173, 183, 173, 173, 175, 178, 183, 193, 178, 173, 174, 183, 183, 180, 168, 180, 170, 178, 182, 180, 183, 178, 182, 188, 175, 179, 183, 193, 182, 183, 177, 185, 188, 188, 182, 185, 191]\n",
        "\n",
        "ages = [57, 61, 57, 57, 58, 57, 61, 54, 68, 51, 49, 64, 50, 48, 65, 52, 56, 46, 54, 49, 51, 47, 55, 55, 54, 42, 51, 56, 55, 51, 54, 51, 60, 62, 43, 55, 56, 61, 52, 69, 64, 46, 54, 47, 70]\n",
        "\n",
        "heights_and_ages = heights + ages\n",
        "heights_and_ages_arr = np.array(heights_and_ages)\n",
        "heights_and_ages_arr = heights_and_ages_arr.reshape((2,45))\n",
        "\n",
        "heights_and_ages_arr[:2, :2] = 0\n",
        "print(heights_and_ages_arr)"
      ],
      "execution_count": null,
      "outputs": [
        {
          "output_type": "stream",
          "text": [
            "[[  0   0 189 163 183 171 185 168 173 183 173 173 175 178 183 193 178 173\n",
            "  174 183 183 180 168 180 170 178 182 180 183 178 182 188 175 179 183 193\n",
            "  182 183 177 185 188 188 182 185 191]\n",
            " [  0   0  57  57  58  57  61  54  68  51  49  64  50  48  65  52  56  46\n",
            "   54  49  51  47  55  55  54  42  51  56  55  51  54  51  60  62  43  55\n",
            "   56  61  52  69  64  46  54  47  70]]\n"
          ],
          "name": "stdout"
        }
      ]
    },
    {
      "cell_type": "markdown",
      "metadata": {
        "id": "87Ls2XjexN2T"
      },
      "source": [
        "# Assigning an Array to an Array\n",
        "In addition, a 1darray or a 2darry can be assigned to a subset of another 2darray, as long as their shapes match. Recall the 2darray heights_and_ages_arr:"
      ]
    },
    {
      "cell_type": "code",
      "metadata": {
        "id": "3CN_-abXxYWv",
        "colab": {
          "base_uri": "https://localhost:8080/"
        },
        "outputId": "8fac5b63-9d23-4cb2-d0b9-7824f7e6ffb0"
      },
      "source": [
        "import numpy as np\n",
        "\n",
        "heights = [189, 170, 189, 163, 183, 171, 185, 168, 173, 183, 173, 173, 175, 178, 183, 193, 178, 173, 174, 183, 183, 180, 168, 180, 170, 178, 182, 180, 183, 178, 182, 188, 175, 179, 183, 193, 182, 183, 177, 185, 188, 188, 182, 185, 191]\n",
        "\n",
        "ages = [57, 61, 57, 57, 58, 57, 61, 54, 68, 51, 49, 64, 50, 48, 65, 52, 56, 46, 54, 49, 51, 47, 55, 55, 54, 42, 51, 56, 55, 51, 54, 51, 60, 62, 43, 55, 56, 61, 52, 69, 64, 46, 54, 47, 70]\n",
        "\n",
        "heights_and_ages = heights + ages\n",
        "heights_and_ages_arr = np.array(heights_and_ages)\n",
        "heights_and_ages_arr = heights_and_ages_arr.reshape((2,45))\n",
        "print(heights_and_ages_arr)"
      ],
      "execution_count": null,
      "outputs": [
        {
          "output_type": "stream",
          "text": [
            "[[189 170 189 163 183 171 185 168 173 183 173 173 175 178 183 193 178 173\n",
            "  174 183 183 180 168 180 170 178 182 180 183 178 182 188 175 179 183 193\n",
            "  182 183 177 185 188 188 182 185 191]\n",
            " [ 57  61  57  57  58  57  61  54  68  51  49  64  50  48  65  52  56  46\n",
            "   54  49  51  47  55  55  54  42  51  56  55  51  54  51  60  62  43  55\n",
            "   56  61  52  69  64  46  54  47  70]]\n"
          ],
          "name": "stdout"
        }
      ]
    },
    {
      "cell_type": "markdown",
      "metadata": {
        "id": "jtB7oUQtxqvR"
      },
      "source": [
        "If we want to update both height and age of the first president with new data, we can supply the data in a list:"
      ]
    },
    {
      "cell_type": "code",
      "metadata": {
        "id": "zzYVNSPLxsK_"
      },
      "source": [
        "import numpy as np\n",
        "\n",
        "heights = [189, 170, 189, 163, 183, 171, 185, 168, 173, 183, 173, 173, 175, 178, 183, 193, 178, 173, 174, 183, 183, 180, 168, 180, 170, 178, 182, 180, 183, 178, 182, 188, 175, 179, 183, 193, 182, 183, 177, 185, 188, 188, 182, 185, 191]\n",
        "\n",
        "ages = [57, 61, 57, 57, 58, 57, 61, 54, 68, 51, 49, 64, 50, 48, 65, 52, 56, 46, 54, 49, 51, 47, 55, 55, 54, 42, 51, 56, 55, 51, 54, 51, 60, 62, 43, 55, 56, 61, 52, 69, 64, 46, 54, 47, 70]\n",
        "\n",
        "heights_and_ages = heights + ages\n",
        "heights_and_ages_arr = np.array(heights_and_ages)\n",
        "heights_and_ages_arr = heights_and_ages_arr.reshape((2,45))\n",
        "\n",
        "heights_and_ages_arr[:, 0] = [190, 58]\n",
        "print(heights_and_ages_arr)"
      ],
      "execution_count": null,
      "outputs": []
    },
    {
      "cell_type": "markdown",
      "metadata": {
        "id": "RyxVNoi6yWTU"
      },
      "source": [
        "We can also update data in a subarray with a numpy array as such:"
      ]
    },
    {
      "cell_type": "code",
      "metadata": {
        "id": "V1yUMaN4yaWZ",
        "colab": {
          "base_uri": "https://localhost:8080/"
        },
        "outputId": "309a87dc-51dc-48f8-f30c-81f3ba67c16b"
      },
      "source": [
        "import numpy as np\n",
        "\n",
        "heights = [189, 170, 189, 163, 183, 171, 185, 168, 173, 183, 173, 173, 175, 178, 183, 193, 178, 173, 174, 183, 183, 180, 168, 180, 170, 178, 182, 180, 183, 178, 182, 188, 175, 179, 183, 193, 182, 183, 177, 185, 188, 188, 182, 185, 191]\n",
        "\n",
        "ages = [57, 61, 57, 57, 58, 57, 61, 54, 68, 51, 49, 64, 50, 48, 65, 52, 56, 46, 54, 49, 51, 47, 55, 55, 54, 42, 51, 56, 55, 51, 54, 51, 60, 62, 43, 55, 56, 61, 52, 69, 64, 46, 54, 47, 70]\n",
        "\n",
        "heights_and_ages = heights + ages\n",
        "heights_and_ages_arr = np.array(heights_and_ages)\n",
        "heights_and_ages_arr = heights_and_ages_arr.reshape((2,45))\n",
        "\n",
        "new_record = np.array([[180, 183, 190], [54, 50, 69]])\n",
        "heights_and_ages_arr[:, 42:] = new_record\n",
        "print(heights_and_ages_arr)"
      ],
      "execution_count": null,
      "outputs": [
        {
          "output_type": "stream",
          "text": [
            "[[189 170 189 163 183 171 185 168 173 183 173 173 175 178 183 193 178 173\n",
            "  174 183 183 180 168 180 170 178 182 180 183 178 182 188 175 179 183 193\n",
            "  182 183 177 185 188 188 180 183 190]\n",
            " [ 57  61  57  57  58  57  61  54  68  51  49  64  50  48  65  52  56  46\n",
            "   54  49  51  47  55  55  54  42  51  56  55  51  54  51  60  62  43  55\n",
            "   56  61  52  69  64  46  54  50  69]]\n"
          ],
          "name": "stdout"
        }
      ]
    },
    {
      "cell_type": "markdown",
      "metadata": {
        "id": "_RuUKu4R0Zpn"
      },
      "source": [
        "# Combining Two Arrays\n",
        "Oftentime we obtain data stored in different arrays and we need to combine them into one to keep it in one place. For example, instead of having the ages stored in a list, it could be stored in a 2darray:"
      ]
    },
    {
      "cell_type": "code",
      "metadata": {
        "id": "fZGMHBgC0iEH",
        "colab": {
          "base_uri": "https://localhost:8080/"
        },
        "outputId": "a3398b37-496d-49fa-b14a-5b9952381437"
      },
      "source": [
        "import numpy as np\n",
        "\n",
        "ages = [57, 61, 57, 57, 58, 57, 61, 54, 68, 51, 49, 64, 50, 48, 65, 52, 56, 46, 54, 49, 51, 47, 55, 55, 54, 42, 51, 56, 55, 51, 54, 51, 60, 62, 43, 55, 56, 61, 52, 69, 64, 46, 54, 47, 70]\n",
        "\n",
        "ages_arr = np.array(ages)\n",
        "\n",
        "print(ages_arr.shape)\n",
        "print(ages_arr[:3,])"
      ],
      "execution_count": null,
      "outputs": [
        {
          "output_type": "stream",
          "text": [
            "(45,)\n",
            "[57 61 57]\n"
          ],
          "name": "stdout"
        }
      ]
    },
    {
      "cell_type": "markdown",
      "metadata": {
        "id": "YDhwVbI80yi2"
      },
      "source": [
        "If we reshape the heights_arr to (45,1), the same as 'ages_arr', we can stack them horizontally (by column) to get a 2darray using **'hstack'**:"
      ]
    },
    {
      "cell_type": "code",
      "metadata": {
        "id": "uLsD0RSU06kl"
      },
      "source": [
        "import numpy as np\n",
        "\n",
        "heights = [189, 170, 189, 163, 183, 171, 185, 168, 173, 183, 173, 173, 175, 178, 183, 193, 178, 173, 174, 183, 183, 180, 168, 180, 170, 178, 182, 180, 183, 178, 182, 188, 175, 179, 183, 193, 182, 183, 177, 185, 188, 188, 182, 185, 191]\n",
        "ages = [57, 61, 57, 57, 58, 57, 61, 54, 68, 51, 49, 64, 50, 48, 65, 52, 56, 46, 54, 49, 51, 47, 55, 55, 54, 42, 51, 56, 55, 51, 54, 51, 60, 62, 43, 55, 56, 61, 52, 69, 64, 46, 54, 47, 70]\n",
        "\n",
        "heights_arr = np.array(heights)\n",
        "ages_arr = np.array(ages)\n",
        "\n",
        "heights_arr = heights_arr.reshape((45,1))\n",
        "ages_arr = ages_arr.reshape((45,1))\n",
        "\n",
        "height_age_arr = np.hstack((heights_arr, ages_arr))\n",
        "print(height_age_arr.shape)\n",
        "print(height_age_arr[:3,])"
      ],
      "execution_count": null,
      "outputs": []
    },
    {
      "cell_type": "markdown",
      "metadata": {
        "id": "Mqh-2lkM1BqR"
      },
      "source": [
        "Now height_age_arr has both heights and ages for the presidents, each column corresponds to the height and age of one president.\n",
        "\n",
        "Similarly, if we want to combine the arrays vertically (by row), we can use **'vstack'**."
      ]
    },
    {
      "cell_type": "code",
      "metadata": {
        "id": "fJ5VmfjE1F94",
        "colab": {
          "base_uri": "https://localhost:8080/"
        },
        "outputId": "96b01379-8a8c-4676-b533-b282e86c5108"
      },
      "source": [
        "import numpy as np\n",
        "\n",
        "heights = [189, 170, 189, 163, 183, 171, 185, 168, 173, 183, 173, 173, 175, 178, 183, 193, 178, 173, 174, 183, 183, 180, 168, 180, 170, 178, 182, 180, 183, 178, 182, 188, 175, 179, 183, 193, 182, 183, 177, 185, 188, 188, 182, 185, 191]\n",
        "ages = [57, 61, 57, 57, 58, 57, 61, 54, 68, 51, 49, 64, 50, 48, 65, 52, 56, 46, 54, 49, 51, 47, 55, 55, 54, 42, 51, 56, 55, 51, 54, 51, 60, 62, 43, 55, 56, 61, 52, 69, 64, 46, 54, 47, 70]\n",
        "\n",
        "heights_arr = np.array(heights)\n",
        "ages_arr = np.array(ages)\n",
        "\n",
        "heights_arr = heights_arr.reshape((1,45))\n",
        "ages_arr = ages_arr.reshape((1,45))\n",
        "\n",
        "height_age_arr = np.vstack((heights_arr, ages_arr))\n",
        "print(height_age_arr.shape)\n",
        "print(height_age_arr[:,:3])"
      ],
      "execution_count": null,
      "outputs": [
        {
          "output_type": "stream",
          "text": [
            "(2, 45)\n",
            "[[189 170 189]\n",
            " [ 57  61  57]]\n"
          ],
          "name": "stdout"
        }
      ]
    },
    {
      "cell_type": "markdown",
      "metadata": {
        "id": "ERim9Nbz11En"
      },
      "source": [
        "# Concatenate\n",
        "More generally, we can use the function numpy.concatenate. If we want to **concatenate**, link together, two arrays along rows, then pass 'axis = 1' to achieve the same result as using numpy.hstack; and pass 'axis = 0' if you want to combine arrays vertically.\n",
        "\n",
        "In the example from the previous part, we were using hstack to combine two arrays horizontally, instead:"
      ]
    },
    {
      "cell_type": "code",
      "metadata": {
        "id": "0lDDcd_D2D70",
        "colab": {
          "base_uri": "https://localhost:8080/"
        },
        "outputId": "12f20f1f-79ea-484b-f6ec-4459b27a8e7b"
      },
      "source": [
        "import numpy as np\n",
        "\n",
        "heights = [189, 170, 189, 163, 183, 171, 185, 168, 173, 183, 173, 173, 175, 178, 183, 193, 178, 173, 174, 183, 183, 180, 168, 180, 170, 178, 182, 180, 183, 178, 182, 188, 175, 179, 183, 193, 182, 183, 177, 185, 188, 188, 182, 185, 191]\n",
        "ages = [57, 61, 57, 57, 58, 57, 61, 54, 68, 51, 49, 64, 50, 48, 65, 52, 56, 46, 54, 49, 51, 47, 55, 55, 54, 42, 51, 56, 55, 51, 54, 51, 60, 62, 43, 55, 56, 61, 52, 69, 64, 46, 54, 47, 70]\n",
        "\n",
        "heights_arr = np.array(heights)\n",
        "ages_arr = np.array(ages)\n",
        "\n",
        "heights_arr = heights_arr.reshape((45,1))\n",
        "ages_arr = ages_arr.reshape((45,1))\n",
        "\n",
        "# height_age_arr = np.hstack((heights_arr, ages_arr))\n",
        "height_age_arr = np.concatenate((heights_arr, ages_arr), axis=1)\n",
        "\n",
        "print(height_age_arr.shape)\n",
        "print(height_age_arr[:3,:])"
      ],
      "execution_count": null,
      "outputs": [
        {
          "output_type": "stream",
          "text": [
            "(45, 2)\n",
            "[[189  57]\n",
            " [170  61]\n",
            " [189  57]]\n"
          ],
          "name": "stdout"
        }
      ]
    },
    {
      "cell_type": "markdown",
      "metadata": {
        "id": "c7vozvNO5jZb"
      },
      "source": [
        "Also you can get the same result as using vstack:"
      ]
    },
    {
      "cell_type": "code",
      "metadata": {
        "id": "uBpAnGYH5vTC",
        "colab": {
          "base_uri": "https://localhost:8080/"
        },
        "outputId": "ce1fcc7e-7cee-49fa-c511-349bf4f0ff16"
      },
      "source": [
        "import numpy as np\n",
        "\n",
        "heights = [189, 170, 189, 163, 183, 171, 185, 168, 173, 183, 173, 173, 175, 178, 183, 193, 178, 173, 174, 183, 183, 180, 168, 180, 170, 178, 182, 180, 183, 178, 182, 188, 175, 179, 183, 193, 182, 183, 177, 185, 188, 188, 182, 185, 191]\n",
        "ages = [57, 61, 57, 57, 58, 57, 61, 54, 68, 51, 49, 64, 50, 48, 65, 52, 56, 46, 54, 49, 51, 47, 55, 55, 54, 42, 51, 56, 55, 51, 54, 51, 60, 62, 43, 55, 56, 61, 52, 69, 64, 46, 54, 47, 70]\n",
        "\n",
        "heights_arr = np.array(heights)\n",
        "ages_arr = np.array(ages)\n",
        "\n",
        "heights_arr = heights_arr.reshape((1,45))\n",
        "ages_arr = ages_arr.reshape((1,45))\n",
        "\n",
        "#height_age_arr = np.vstack((heights_arr, ages_arr))\n",
        "height_age_arr = np.concatenate((heights_arr, ages_arr), axis=0)\n",
        "\n",
        "print(height_age_arr.shape)\n",
        "print(height_age_arr[:,:3])"
      ],
      "execution_count": null,
      "outputs": [
        {
          "output_type": "stream",
          "text": [
            "(2, 45)\n",
            "[[189 170 189]\n",
            " [ 57  61  57]]\n"
          ],
          "name": "stdout"
        }
      ]
    },
    {
      "cell_type": "markdown",
      "metadata": {
        "id": "v6iuiBIrEOeH"
      },
      "source": [
        "You can use np.hstack to concatenate arrays ONLY if they have the same number of rows."
      ]
    },
    {
      "cell_type": "markdown",
      "metadata": {
        "id": "MBUpoEBA65c0"
      },
      "source": [
        "# Mathematical Operations on Arrays\n",
        "Performing mathematical operations on arrays is straightforward. For instance, to convert the heights from centimeters to feet, knowing that 1 centimeter is equal to 0.0328084 feet, we can use multiplication:"
      ]
    },
    {
      "cell_type": "code",
      "metadata": {
        "id": "aSb3CpjP7EeF",
        "colab": {
          "base_uri": "https://localhost:8080/"
        },
        "outputId": "371ad0ce-a798-4f51-c299-fc2c10ed2376"
      },
      "source": [
        "import numpy as np\n",
        "\n",
        "heights_arr = np.array([189, 170, 189, 163, 183, 171, 185, 168, 173, 183, 173, 173, 175, 178, 183, 193, 178, 173, 174, 183, 183, 180, 168, 180, 170, 178, 182, 180, 183, 178, 182, 188, 175, 179, 183, 193, 182, 183, 177, 185, 188, 188, 182, 185, 191])\n",
        "ages_arr = np.array([57, 61, 57, 57, 58, 57, 61, 54, 68, 51, 49, 64, 50, 48, 65, 52, 56, 46, 54, 49, 51, 47, 55, 55, 54, 42, 51, 56, 55, 51, 54, 51, 60, 62, 43, 55, 56, 61, 52, 69, 64, 46, 54, 47, 70]).reshape((-1,1))\n",
        "\n",
        "heights_arr = heights_arr.reshape((45,1))\n",
        "height_age_arr = np.hstack((heights_arr, ages_arr))\n",
        "\n",
        "print(height_age_arr[:,0]*0.0328084)"
      ],
      "execution_count": null,
      "outputs": [
        {
          "output_type": "stream",
          "text": [
            "[6.2007876 5.577428  6.2007876 5.3477692 6.0039372 5.6102364 6.069554\n",
            " 5.5118112 5.6758532 6.0039372 5.6758532 5.6758532 5.74147   5.8398952\n",
            " 6.0039372 6.3320212 5.8398952 5.6758532 5.7086616 6.0039372 6.0039372\n",
            " 5.905512  5.5118112 5.905512  5.577428  5.8398952 5.9711288 5.905512\n",
            " 6.0039372 5.8398952 5.9711288 6.1679792 5.74147   5.8727036 6.0039372\n",
            " 6.3320212 5.9711288 6.0039372 5.8070868 6.069554  6.1679792 6.1679792\n",
            " 5.9711288 6.069554  6.2664044]\n"
          ],
          "name": "stdout"
        }
      ]
    },
    {
      "cell_type": "markdown",
      "metadata": {
        "id": "xyNS715qJUaU"
      },
      "source": [
        "# Numpy Array Method\n",
        "In addition, there are several methods in numpy to perform more complex calculations on arrays. For example, the **sum()** method finds the sum of all the elements in an array:"
      ]
    },
    {
      "cell_type": "code",
      "metadata": {
        "id": "oysqxz3PLFnU",
        "colab": {
          "base_uri": "https://localhost:8080/"
        },
        "outputId": "820bbeb7-e971-4ca0-86f9-130fdaf9616f"
      },
      "source": [
        "import numpy as np\n",
        "\n",
        "heights_arr = np.array([189, 170, 189, 163, 183, 171, 185, 168, 173, 183, 173, 173, 175, 178, 183, 193, 178, 173, 174, 183, 183, 180, 168, 180, 170, 178, 182, 180, 183, 178, 182, 188, 175, 179, 183, 193, 182, 183, 177, 185, 188, 188, 182, 185, 191])\n",
        "ages_arr = np.array([57, 61, 57, 57, 58, 57, 61, 54, 68, 51, 49, 64, 50, 48, 65, 52, 56, 46, 54, 49, 51, 47, 55, 55, 54, 42, 51, 56, 55, 51, 54, 51, 60, 62, 43, 55, 56, 61, 52, 69, 64, 46, 54, 47, 70]).reshape((-1,1))\n",
        "\n",
        "heights_arr = heights_arr.reshape((45,1))\n",
        "height_age_arr = np.hstack((heights_arr, ages_arr))\n",
        "\n",
        "print(height_age_arr.sum())"
      ],
      "execution_count": null,
      "outputs": [
        {
          "output_type": "stream",
          "text": [
            "10575\n"
          ],
          "name": "stdout"
        }
      ]
    },
    {
      "cell_type": "markdown",
      "metadata": {
        "id": "TeUluzHhKp25"
      },
      "source": [
        "The sum of all heights and ages is 10575. In order to sum all heights and sum all ages separately, we can specify axis=0 to calculate the sum across the rows, that is, it computes the sum for each column, or column sum. On the other hand, to obtain the row sums specify axis=1. In this example, we want to calculate the total sum of heights and ages, respectively:"
      ]
    },
    {
      "cell_type": "code",
      "metadata": {
        "id": "3CeD9D_-KuzO",
        "colab": {
          "base_uri": "https://localhost:8080/"
        },
        "outputId": "52f75e1f-0c6f-469b-a425-2d7979f7cbeb"
      },
      "source": [
        "import numpy as np\n",
        "\n",
        "heights_arr = np.array([189, 170, 189, 163, 183, 171, 185, 168, 173, 183, 173, 173, 175, 178, 183, 193, 178, 173, 174, 183, 183, 180, 168, 180, 170, 178, 182, 180, 183, 178, 182, 188, 175, 179, 183, 193, 182, 183, 177, 185, 188, 188, 182, 185, 191])\n",
        "ages_arr = np.array([57, 61, 57, 57, 58, 57, 61, 54, 68, 51, 49, 64, 50, 48, 65, 52, 56, 46, 54, 49, 51, 47, 55, 55, 54, 42, 51, 56, 55, 51, 54, 51, 60, 62, 43, 55, 56, 61, 52, 69, 64, 46, 54, 47, 70]).reshape((-1,1))\n",
        "\n",
        "heights_arr = heights_arr.reshape((45,1))\n",
        "height_age_arr = np.hstack((heights_arr, ages_arr))\n",
        "\n",
        "print(height_age_arr.sum(axis=0))"
      ],
      "execution_count": null,
      "outputs": [
        {
          "output_type": "stream",
          "text": [
            "[8100 2475]\n"
          ],
          "name": "stdout"
        }
      ]
    },
    {
      "cell_type": "markdown",
      "metadata": {
        "id": "L_f4M_ySLes-"
      },
      "source": [
        "The output is the row sums: heights of all presidents (i.e., the first row) add up to 8100, and the sum of ages (i.e., the second row) is 2475.\n",
        "\n",
        "Other operations, such as .min(), .max(), .mean(), work in a similar way to .sum()."
      ]
    },
    {
      "cell_type": "markdown",
      "metadata": {
        "id": "Rirw4qrzM6r3"
      },
      "source": [
        "# Comparisons\n",
        "In practicing data science, we often encounter comparisons to identify rows that match certain values. We can use operations including \"<\", \">\", \">=\", \"<=\", and \"==\" to do so. For example, in the height_age_arr dataset, we might be interested in only those presidents who started their presidency younger than 55 years old."
      ]
    },
    {
      "cell_type": "code",
      "metadata": {
        "id": "-cT_d4gINGzN",
        "colab": {
          "base_uri": "https://localhost:8080/"
        },
        "outputId": "c7ffd000-c2d0-419b-d23e-b112170b7670"
      },
      "source": [
        "import numpy as np\n",
        "\n",
        "heights_arr = np.array([189, 170, 189, 163, 183, 171, 185, 168, 173, 183, 173, 173, 175, 178, 183, 193, 178, 173, 174, 183, 183, 180, 168, 180, 170, 178, 182, 180, 183, 178, 182, 188, 175, 179, 183, 193, 182, 183, 177, 185, 188, 188, 182, 185, 191])\n",
        "ages_arr = np.array([57, 61, 57, 57, 58, 57, 61, 54, 68, 51, 49, 64, 50, 48, 65, 52, 56, 46, 54, 49, 51, 47, 55, 55, 54, 42, 51, 56, 55, 51, 54, 51, 60, 62, 43, 55, 56, 61, 52, 69, 64, 46, 54, 47, 70]).reshape((-1,1))\n",
        "\n",
        "heights_arr = heights_arr.reshape((45,1))\n",
        "height_age_arr = np.hstack((heights_arr, ages_arr))\n",
        "\n",
        "print(height_age_arr[:, 1] < 55)"
      ],
      "execution_count": null,
      "outputs": [
        {
          "output_type": "stream",
          "text": [
            "[False False False False False False False  True False  True  True False\n",
            "  True  True False  True False  True  True  True  True  True False False\n",
            "  True  True  True False False  True  True  True False False  True False\n",
            " False False  True False False  True  True  True False]\n"
          ],
          "name": "stdout"
        }
      ]
    },
    {
      "cell_type": "markdown",
      "metadata": {
        "id": "wY9XNuiONyRy"
      },
      "source": [
        "The output is a 1darray with boolean values that indicates which presidents meet the criteria. If we are only interested in which presidents started their presidency at 51 years of age, we can use \"==\" instead."
      ]
    },
    {
      "cell_type": "code",
      "metadata": {
        "id": "6QRDcXviOGyg",
        "colab": {
          "base_uri": "https://localhost:8080/"
        },
        "outputId": "70100483-a360-4a2f-e9f6-17c825b2f376"
      },
      "source": [
        "import numpy as np\n",
        "\n",
        "heights_arr = np.array([189, 170, 189, 163, 183, 171, 185, 168, 173, 183, 173, 173, 175, 178, 183, 193, 178, 173, 174, 183, 183, 180, 168, 180, 170, 178, 182, 180, 183, 178, 182, 188, 175, 179, 183, 193, 182, 183, 177, 185, 188, 188, 182, 185, 191])\n",
        "ages_arr = np.array([57, 61, 57, 57, 58, 57, 61, 54, 68, 51, 49, 64, 50, 48, 65, 52, 56, 46, 54, 49, 51, 47, 55, 55, 54, 42, 51, 56, 55, 51, 54, 51, 60, 62, 43, 55, 56, 61, 52, 69, 64, 46, 54, 47, 70]).reshape((-1,1))\n",
        "\n",
        "heights_arr = heights_arr.reshape((45,1))\n",
        "height_age_arr = np.hstack((heights_arr, ages_arr))\n",
        "\n",
        "print(height_age_arr[:, 1] == 51)"
      ],
      "execution_count": null,
      "outputs": [
        {
          "output_type": "stream",
          "text": [
            "[False False False False False False False False False  True False False\n",
            " False False False False False False False False  True False False False\n",
            " False False  True False False  True False  True False False False False\n",
            " False False False False False False False False False]\n"
          ],
          "name": "stdout"
        }
      ]
    },
    {
      "cell_type": "markdown",
      "metadata": {
        "id": "w3XK69UCOnsi"
      },
      "source": [
        "To find out how many rows satisfy the condition, use .sum() on the resultant 1d boolean array, e.g., (height_age_arr[:, 1] == 51).sum(), to see that there were exactly five presidents who started the presidency at age 51. True is treated as 1 and False as 0 in the sum."
      ]
    },
    {
      "cell_type": "markdown",
      "metadata": {
        "id": "0rv96sNJQsqj"
      },
      "source": [
        "# Masking and Subnetting\n",
        "Now that rows matching certain criteria can be identified, a subset of the data can be found. For example, instead of the entire dataset, we want only tall presidents, that is, those presidents whose height is greater than or equal to 182 cm. We first create a mask, 1darray with boolean values:"
      ]
    },
    {
      "cell_type": "code",
      "metadata": {
        "id": "HCaXfZfxRAmk"
      },
      "source": [
        "import numpy as np\n",
        "\n",
        "heights_arr = np.array([189, 170, 189, 163, 183, 171, 185, 168, 173, 183, 173, 173, 175, 178, 183, 193, 178, 173, 174, 183, 183, 180, 168, 180, 170, 178, 182, 180, 183, 178, 182, 188, 175, 179, 183, 193, 182, 183, 177, 185, 188, 188, 182, 185, 191])\n",
        "ages_arr = np.array([57, 61, 57, 57, 58, 57, 61, 54, 68, 51, 49, 64, 50, 48, 65, 52, 56, 46, 54, 49, 51, 47, 55, 55, 54, 42, 51, 56, 55, 51, 54, 51, 60, 62, 43, 55, 56, 61, 52, 69, 64, 46, 54, 47, 70]).reshape((-1,1))\n",
        "\n",
        "heights_arr = heights_arr.reshape((45,1))\n",
        "height_age_arr = np.hstack((heights_arr, ages_arr))\n",
        "\n",
        "mask = height_age_arr[:, 0] >= 182\n",
        "print(mask.sum())"
      ],
      "execution_count": null,
      "outputs": []
    },
    {
      "cell_type": "markdown",
      "metadata": {
        "id": "ah7wqRv9R4jh"
      },
      "source": [
        "Then pass it to the first axis of `height_age_arr` to filter presidents who don’t meet the criteria:"
      ]
    },
    {
      "cell_type": "code",
      "metadata": {
        "id": "R_RKy4XdSVXq",
        "colab": {
          "base_uri": "https://localhost:8080/"
        },
        "outputId": "acc9ec3c-f5f8-49ae-fb05-940709c76690"
      },
      "source": [
        "import numpy as np\n",
        "\n",
        "heights_arr = np.array([189, 170, 189, 163, 183, 171, 185, 168, 173, 183, 173, 173, 175, 178, 183, 193, 178, 173, 174, 183, 183, 180, 168, 180, 170, 178, 182, 180, 183, 178, 182, 188, 175, 179, 183, 193, 182, 183, 177, 185, 188, 188, 182, 185, 191])\n",
        "ages_arr = np.array([57, 61, 57, 57, 58, 57, 61, 54, 68, 51, 49, 64, 50, 48, 65, 52, 56, 46, 54, 49, 51, 47, 55, 55, 54, 42, 51, 56, 55, 51, 54, 51, 60, 62, 43, 55, 56, 61, 52, 69, 64, 46, 54, 47, 70]).reshape((-1,1))\n",
        "\n",
        "heights_arr = heights_arr.reshape((45,1))\n",
        "height_age_arr = np.hstack((heights_arr, ages_arr))\n",
        "\n",
        "mask = height_age_arr[:, 0] >= 182\n",
        "tall_presidents = height_age_arr[mask, ]\n",
        "tall_presidents.shape\n",
        "\n",
        "print(tall_presidents.shape)"
      ],
      "execution_count": null,
      "outputs": [
        {
          "output_type": "stream",
          "text": [
            "(23, 2)\n"
          ],
          "name": "stdout"
        }
      ]
    },
    {
      "cell_type": "markdown",
      "metadata": {
        "id": "sxj6bbsqTDUF"
      },
      "source": [
        "This is a subarray of height_age_arr, and all presidents in tall_presidents were at least 182cm tall.\n",
        "\n",
        "Masking is used to extract, modify, count, or otherwise manipulate values in an array based on some criterion. In our example, the criteria was height of 182cm or taller. "
      ]
    },
    {
      "cell_type": "markdown",
      "metadata": {
        "id": "qladHHotwiMP"
      },
      "source": [
        "# Multiple Criteria\n",
        "We can create a **mask** satisfying more than one criteria. For example, in addition to height, we want to find those presidents that were 50 years old or younger at the start of their presidency. To achieve this, we use **&** to separate the conditions and each condition is encapsulated with parentheses \"()\" as shown below:"
      ]
    },
    {
      "cell_type": "code",
      "metadata": {
        "id": "Nlb63gSVxAVH",
        "colab": {
          "base_uri": "https://localhost:8080/"
        },
        "outputId": "baff0eb4-661a-41b1-bfcf-def2bcdca043"
      },
      "source": [
        "import numpy as np\n",
        "\n",
        "heights_arr = np.array([189, 170, 189, 163, 183, 171, 185, 168, 173, 183, 173, 173, 175, 178, 183, 193, 178, 173, 174, 183, 183, 180, 168, 180, 170, 178, 182, 180, 183, 178, 182, 188, 175, 179, 183, 193, 182, 183, 177, 185, 188, 188, 182, 185, 191])\n",
        "ages_arr = np.array([57, 61, 57, 57, 58, 57, 61, 54, 68, 51, 49, 64, 50, 48, 65, 52, 56, 46, 54, 49, 51, 47, 55, 55, 54, 42, 51, 56, 55, 51, 54, 51, 60, 62, 43, 55, 56, 61, 52, 69, 64, 46, 54, 47, 70]).reshape((-1,1))\n",
        "\n",
        "heights_arr = heights_arr.reshape((45,1))\n",
        "height_age_arr = np.hstack((heights_arr, ages_arr))\n",
        "\n",
        "mask = (height_age_arr[:, 0]>=182) & (height_age_arr[:,1]<=50)\n",
        "\n",
        "print(height_age_arr[mask,])"
      ],
      "execution_count": null,
      "outputs": [
        {
          "output_type": "stream",
          "text": [
            "[[183  49]\n",
            " [183  43]\n",
            " [188  46]\n",
            " [185  47]]\n"
          ],
          "name": "stdout"
        }
      ]
    },
    {
      "cell_type": "markdown",
      "metadata": {
        "id": "wW85_KQPxi2j"
      },
      "source": [
        "The results show us that there are four presidents who satisfy both conditions.\n",
        "\n",
        "Data manipulation in Python is nearly synonymous with Numpy array manipulation. Operations shown here are the building blocks."
      ]
    }
  ]
}